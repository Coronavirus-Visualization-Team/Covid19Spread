{
 "cells": [
  {
   "cell_type": "markdown",
   "metadata": {},
   "source": [
    "## Import Required Libaries"
   ]
  },
  {
   "cell_type": "code",
   "execution_count": 4,
   "metadata": {},
   "outputs": [],
   "source": [
    "import requests\n",
    "import json"
   ]
  },
  {
   "cell_type": "markdown",
   "metadata": {},
   "source": [
    "## Define search perameters"
   ]
  },
  {
   "cell_type": "code",
   "execution_count": 15,
   "metadata": {},
   "outputs": [],
   "source": [
    "place = 'Horsham'\n",
    "place_type = 'Restaurant'\n",
    "APIkey = ''"
   ]
  },
  {
   "cell_type": "markdown",
   "metadata": {},
   "source": [
    "## Get data from Google Places"
   ]
  },
  {
   "cell_type": "markdown",
   "metadata": {},
   "source": [
    "### Construct URL for request from params"
   ]
  },
  {
   "cell_type": "code",
   "execution_count": 11,
   "metadata": {},
   "outputs": [],
   "source": [
    "#customer URL to get info from google places api with specified search perameters\n",
    "url = 'https://maps.googleapis.com/maps/api/place/textsearch/json?query={}+in+{}&key={}'.format(place_type, place, APIkey)"
   ]
  },
  {
   "cell_type": "markdown",
   "metadata": {},
   "source": [
    "### Make Http Request"
   ]
  },
  {
   "cell_type": "code",
   "execution_count": 12,
   "metadata": {},
   "outputs": [],
   "source": [
    "#HTTP get requests on customer URL\n",
    "page = requests.get(url)"
   ]
  },
  {
   "cell_type": "markdown",
   "metadata": {},
   "source": [
    "### Parse data"
   ]
  },
  {
   "cell_type": "code",
   "execution_count": 13,
   "metadata": {},
   "outputs": [],
   "source": [
    "#turn HTTP get request into JSON file\n",
    "content = page.content\n",
    "output = json.loads(content)"
   ]
  },
  {
   "cell_type": "markdown",
   "metadata": {},
   "source": [
    "### Print returned data "
   ]
  },
  {
   "cell_type": "code",
   "execution_count": 14,
   "metadata": {},
   "outputs": [
    {
     "name": "stdout",
     "output_type": "stream",
     "text": [
      "The Farm and Fisherman Tavern - Horsham OPERATIONAL\n",
      "Sushiwa OPERATIONAL\n",
      "Buona Via OPERATIONAL\n",
      "MaGerks Pub & Grill Horsham OPERATIONAL\n",
      "Wing Lee Cuisine OPERATIONAL\n",
      "Horsham Pizza OPERATIONAL\n",
      "Viet Thai Cuisine OPERATIONAL\n",
      "Otto's Brauhaus CLOSED_TEMPORARILY\n",
      "Fountain Side Seafood & Grill OPERATIONAL\n",
      "Tonelli's Pizza Pub OPERATIONAL\n",
      "Graeme Park Pizza & Cafe OPERATIONAL\n",
      "QDOBA Mexican Eats OPERATIONAL\n",
      "Grandma's Grotto Restaurants and Gluten-free Bakery OPERATIONAL\n",
      "Lancers Diner OPERATIONAL\n",
      "Dim Sum Factory OPERATIONAL\n",
      "U'Panzerott OPERATIONAL\n",
      "Bryn & Dane's OPERATIONAL\n",
      "NaBrasa Brazilian Steakhouse OPERATIONAL\n",
      "Corner Bakery Cafe CLOSED_TEMPORARILY\n",
      "Vic sushi & Thai OPERATIONAL\n"
     ]
    }
   ],
   "source": [
    "#output all business names and their operational status \n",
    "for i in range(len(output['results'])):    \n",
    "    print(output['results'][i]['name'],output['results'][i]['business_status'])\n"
   ]
  }
 ],
 "metadata": {
  "kernelspec": {
   "display_name": "Python 3",
   "language": "python",
   "name": "python3"
  },
  "language_info": {
   "codemirror_mode": {
    "name": "ipython",
    "version": 3
   },
   "file_extension": ".py",
   "mimetype": "text/x-python",
   "name": "python",
   "nbconvert_exporter": "python",
   "pygments_lexer": "ipython3",
   "version": "3.7.4"
  }
 },
 "nbformat": 4,
 "nbformat_minor": 4
}
